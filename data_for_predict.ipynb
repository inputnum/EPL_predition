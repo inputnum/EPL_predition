{
 "cells": [
  {
   "cell_type": "code",
   "execution_count": 4,
   "id": "e1d651ed-eccd-4149-b1c9-5651303424c5",
   "metadata": {},
   "outputs": [
    {
     "name": "stdout",
     "output_type": "stream",
     "text": [
      "           Date           HomeTeam     AwayTeam\n",
      "0    2024-01-01          Liverpool    Newcastle\n",
      "1    2024-02-01           West Ham  Bournemouth\n",
      "2    2024-02-01             Wolves      Man Utd\n",
      "3    2023-09-01              Luton     West Ham\n",
      "4    2023-10-01  Nottingham Forest    Brentford\n",
      "..          ...                ...          ...\n",
      "375  2024-01-31              Spurs    Brentford\n",
      "376  2024-01-31           Man City      Burnley\n",
      "377  2024-01-31          Liverpool      Chelsea\n",
      "378  2023-12-31             Fulham      Arsenal\n",
      "379  2023-12-31              Spurs  Bournemouth\n",
      "\n",
      "[380 rows x 3 columns]\n"
     ]
    }
   ],
   "source": [
    "import pandas as pd\n",
    "\n",
    "file_path_nxg = '~/Documents/ds_study/EPL_prediction_ML/data/epl-2023-GMTStandardTime.csv'\n",
    "df = pd.read_csv(file_path_nxg)\n",
    "df['Date'] = pd.to_datetime(df['Date'], format='%d/%m/%Y %H:%M').dt.strftime('%Y-%m-%d')\n",
    "\n",
    "print(df)"
   ]
  },
  {
   "cell_type": "code",
   "execution_count": 5,
   "id": "45b2abdd-f98e-4b38-83fa-5afefcb6e2cc",
   "metadata": {},
   "outputs": [],
   "source": [
    "df.to_csv('~/Documents/ds_study/EPL_prediction_ML/data/epl_2023-2024.csv', index=False)"
   ]
  },
  {
   "cell_type": "code",
   "execution_count": 7,
   "id": "6b4af8e7-1e89-4d15-8c82-256e9b22d7ab",
   "metadata": {},
   "outputs": [
    {
     "data": {
      "text/plain": [
       "{'Luton', 'Man Utd', 'Nottingham Forest', 'Sheffield Utd', 'Spurs'}"
      ]
     },
     "execution_count": 7,
     "metadata": {},
     "output_type": "execute_result"
    }
   ],
   "source": [
    "merge_data_path = '~/Documents/ds_study/EPL_prediction_ML/data/merge_data.csv'\n",
    "epl_data_path = '~/Documents/ds_study/EPL_prediction_ML/data/epl_2023-2024.csv'\n",
    "\n",
    "merge_data = pd.read_csv(merge_data_path)\n",
    "epl_data = pd.read_csv(epl_data_path)\n",
    "\n",
    "teams_merge_data = set(merge_data['HomeTeam'].unique())\n",
    "teams_epl_data = set(epl_data['HomeTeam'].unique())\n",
    "\n",
    "teams_to_replace = teams_epl_data - teams_merge_data\n",
    "teams_to_replace\n"
   ]
  },
  {
   "cell_type": "code",
   "execution_count": 8,
   "id": "4fa72487-778b-4541-a6d4-eb20e56338ef",
   "metadata": {},
   "outputs": [],
   "source": [
    "import pandas as pd\n",
    "\n",
    "merge_data = pd.read_csv('~/Documents/ds_study/EPL_prediction_ML/data/merge_data.csv')\n",
    "epl_data = pd.read_csv('~/Documents/ds_study/EPL_prediction_ML/data/epl_2023-2024.csv')\n"
   ]
  },
  {
   "cell_type": "code",
   "execution_count": 11,
   "id": "3ade9188-b493-405c-9b86-7c854480e2c1",
   "metadata": {},
   "outputs": [
    {
     "name": "stdout",
     "output_type": "stream",
     "text": [
      "           Date           HomeTeam     AwayTeam\n",
      "0    2024-01-01          Liverpool    Newcastle\n",
      "1    2024-02-01           West Ham  Bournemouth\n",
      "2    2024-02-01             Wolves      Man Utd\n",
      "4    2023-10-01  Nottingham Forest    Brentford\n",
      "5    2024-01-02           West Ham     Brighton\n",
      "..          ...                ...          ...\n",
      "375  2024-01-31              Spurs    Brentford\n",
      "376  2024-01-31           Man City      Burnley\n",
      "377  2024-01-31          Liverpool      Chelsea\n",
      "378  2023-12-31             Fulham      Arsenal\n",
      "379  2023-12-31              Spurs  Bournemouth\n",
      "\n",
      "[342 rows x 3 columns]\n"
     ]
    }
   ],
   "source": [
    "# Luton이 막 승격된 팀이라 데이터가 없으므로 삭제\n",
    "epl_data = epl_data[(epl_data['HomeTeam'] != 'Luton') & (epl_data['AwayTeam'] != 'Luton')]\n",
    "\n",
    "print(epl_data)"
   ]
  },
  {
   "cell_type": "code",
   "execution_count": 13,
   "id": "af45e279-d8d2-4a8f-a5a3-bb3c08c7d36d",
   "metadata": {},
   "outputs": [],
   "source": [
    "name_mapping = {\n",
    "    'Man Utd': 'Man United',\n",
    "    'Nottingham Forest': \"Nott'm Forest\",\n",
    "    'Sheffield Utd': 'Sheffield United',\n",
    "    'Spurs': 'Tottenham'\n",
    "    }"
   ]
  },
  {
   "cell_type": "code",
   "execution_count": 19,
   "id": "258403f5-19a2-4d5e-bf6c-884236847583",
   "metadata": {},
   "outputs": [
    {
     "data": {
      "text/html": [
       "<div>\n",
       "<style scoped>\n",
       "    .dataframe tbody tr th:only-of-type {\n",
       "        vertical-align: middle;\n",
       "    }\n",
       "\n",
       "    .dataframe tbody tr th {\n",
       "        vertical-align: top;\n",
       "    }\n",
       "\n",
       "    .dataframe thead th {\n",
       "        text-align: right;\n",
       "    }\n",
       "</style>\n",
       "<table border=\"1\" class=\"dataframe\">\n",
       "  <thead>\n",
       "    <tr style=\"text-align: right;\">\n",
       "      <th></th>\n",
       "      <th>Date</th>\n",
       "      <th>HomeTeam</th>\n",
       "      <th>AwayTeam</th>\n",
       "    </tr>\n",
       "  </thead>\n",
       "  <tbody>\n",
       "    <tr>\n",
       "      <th>0</th>\n",
       "      <td>2024-01-01</td>\n",
       "      <td>Liverpool</td>\n",
       "      <td>Newcastle</td>\n",
       "    </tr>\n",
       "    <tr>\n",
       "      <th>1</th>\n",
       "      <td>2024-02-01</td>\n",
       "      <td>West Ham</td>\n",
       "      <td>Bournemouth</td>\n",
       "    </tr>\n",
       "    <tr>\n",
       "      <th>2</th>\n",
       "      <td>2024-02-01</td>\n",
       "      <td>Wolves</td>\n",
       "      <td>Man United</td>\n",
       "    </tr>\n",
       "    <tr>\n",
       "      <th>4</th>\n",
       "      <td>2023-10-01</td>\n",
       "      <td>Nott'm Forest</td>\n",
       "      <td>Brentford</td>\n",
       "    </tr>\n",
       "    <tr>\n",
       "      <th>5</th>\n",
       "      <td>2024-01-02</td>\n",
       "      <td>West Ham</td>\n",
       "      <td>Brighton</td>\n",
       "    </tr>\n",
       "    <tr>\n",
       "      <th>...</th>\n",
       "      <td>...</td>\n",
       "      <td>...</td>\n",
       "      <td>...</td>\n",
       "    </tr>\n",
       "    <tr>\n",
       "      <th>375</th>\n",
       "      <td>2024-01-31</td>\n",
       "      <td>Tottenham</td>\n",
       "      <td>Brentford</td>\n",
       "    </tr>\n",
       "    <tr>\n",
       "      <th>376</th>\n",
       "      <td>2024-01-31</td>\n",
       "      <td>Man City</td>\n",
       "      <td>Burnley</td>\n",
       "    </tr>\n",
       "    <tr>\n",
       "      <th>377</th>\n",
       "      <td>2024-01-31</td>\n",
       "      <td>Liverpool</td>\n",
       "      <td>Chelsea</td>\n",
       "    </tr>\n",
       "    <tr>\n",
       "      <th>378</th>\n",
       "      <td>2023-12-31</td>\n",
       "      <td>Fulham</td>\n",
       "      <td>Arsenal</td>\n",
       "    </tr>\n",
       "    <tr>\n",
       "      <th>379</th>\n",
       "      <td>2023-12-31</td>\n",
       "      <td>Tottenham</td>\n",
       "      <td>Bournemouth</td>\n",
       "    </tr>\n",
       "  </tbody>\n",
       "</table>\n",
       "<p>342 rows × 3 columns</p>\n",
       "</div>"
      ],
      "text/plain": [
       "           Date       HomeTeam     AwayTeam\n",
       "0    2024-01-01      Liverpool    Newcastle\n",
       "1    2024-02-01       West Ham  Bournemouth\n",
       "2    2024-02-01         Wolves   Man United\n",
       "4    2023-10-01  Nott'm Forest    Brentford\n",
       "5    2024-01-02       West Ham     Brighton\n",
       "..          ...            ...          ...\n",
       "375  2024-01-31      Tottenham    Brentford\n",
       "376  2024-01-31       Man City      Burnley\n",
       "377  2024-01-31      Liverpool      Chelsea\n",
       "378  2023-12-31         Fulham      Arsenal\n",
       "379  2023-12-31      Tottenham  Bournemouth\n",
       "\n",
       "[342 rows x 3 columns]"
      ]
     },
     "execution_count": 19,
     "metadata": {},
     "output_type": "execute_result"
    }
   ],
   "source": [
    "epl_data['HomeTeam'] = epl_data['HomeTeam'].replace(name_mapping)\n",
    "epl_data['AwayTeam'] = epl_data['AwayTeam'].replace(name_mapping)\n",
    "\n",
    "epl_data"
   ]
  },
  {
   "cell_type": "code",
   "execution_count": 23,
   "id": "6976d6f7-cb5a-471b-967c-95338a1eda06",
   "metadata": {},
   "outputs": [
    {
     "data": {
      "text/html": [
       "<div>\n",
       "<style scoped>\n",
       "    .dataframe tbody tr th:only-of-type {\n",
       "        vertical-align: middle;\n",
       "    }\n",
       "\n",
       "    .dataframe tbody tr th {\n",
       "        vertical-align: top;\n",
       "    }\n",
       "\n",
       "    .dataframe thead th {\n",
       "        text-align: right;\n",
       "    }\n",
       "</style>\n",
       "<table border=\"1\" class=\"dataframe\">\n",
       "  <thead>\n",
       "    <tr style=\"text-align: right;\">\n",
       "      <th></th>\n",
       "      <th>Date</th>\n",
       "      <th>HomeTeam</th>\n",
       "      <th>AwayTeam</th>\n",
       "    </tr>\n",
       "  </thead>\n",
       "  <tbody>\n",
       "    <tr>\n",
       "      <th>147</th>\n",
       "      <td>2023-08-11</td>\n",
       "      <td>Burnley</td>\n",
       "      <td>Man City</td>\n",
       "    </tr>\n",
       "    <tr>\n",
       "      <th>153</th>\n",
       "      <td>2023-08-12</td>\n",
       "      <td>Arsenal</td>\n",
       "      <td>Nott'm Forest</td>\n",
       "    </tr>\n",
       "    <tr>\n",
       "      <th>154</th>\n",
       "      <td>2023-08-12</td>\n",
       "      <td>Bournemouth</td>\n",
       "      <td>West Ham</td>\n",
       "    </tr>\n",
       "    <tr>\n",
       "      <th>156</th>\n",
       "      <td>2023-08-12</td>\n",
       "      <td>Everton</td>\n",
       "      <td>Fulham</td>\n",
       "    </tr>\n",
       "    <tr>\n",
       "      <th>157</th>\n",
       "      <td>2023-08-12</td>\n",
       "      <td>Sheffield United</td>\n",
       "      <td>Crystal Palace</td>\n",
       "    </tr>\n",
       "    <tr>\n",
       "      <th>...</th>\n",
       "      <td>...</td>\n",
       "      <td>...</td>\n",
       "      <td>...</td>\n",
       "    </tr>\n",
       "    <tr>\n",
       "      <th>227</th>\n",
       "      <td>2024-05-19</td>\n",
       "      <td>Chelsea</td>\n",
       "      <td>Bournemouth</td>\n",
       "    </tr>\n",
       "    <tr>\n",
       "      <th>228</th>\n",
       "      <td>2024-05-19</td>\n",
       "      <td>Crystal Palace</td>\n",
       "      <td>Aston Villa</td>\n",
       "    </tr>\n",
       "    <tr>\n",
       "      <th>232</th>\n",
       "      <td>2024-05-19</td>\n",
       "      <td>Sheffield United</td>\n",
       "      <td>Tottenham</td>\n",
       "    </tr>\n",
       "    <tr>\n",
       "      <th>223</th>\n",
       "      <td>2024-05-19</td>\n",
       "      <td>Arsenal</td>\n",
       "      <td>Everton</td>\n",
       "    </tr>\n",
       "    <tr>\n",
       "      <th>225</th>\n",
       "      <td>2024-05-19</td>\n",
       "      <td>Brighton</td>\n",
       "      <td>Man United</td>\n",
       "    </tr>\n",
       "  </tbody>\n",
       "</table>\n",
       "<p>342 rows × 3 columns</p>\n",
       "</div>"
      ],
      "text/plain": [
       "          Date          HomeTeam        AwayTeam\n",
       "147 2023-08-11           Burnley        Man City\n",
       "153 2023-08-12           Arsenal   Nott'm Forest\n",
       "154 2023-08-12       Bournemouth        West Ham\n",
       "156 2023-08-12           Everton          Fulham\n",
       "157 2023-08-12  Sheffield United  Crystal Palace\n",
       "..         ...               ...             ...\n",
       "227 2024-05-19           Chelsea     Bournemouth\n",
       "228 2024-05-19    Crystal Palace     Aston Villa\n",
       "232 2024-05-19  Sheffield United       Tottenham\n",
       "223 2024-05-19           Arsenal         Everton\n",
       "225 2024-05-19          Brighton      Man United\n",
       "\n",
       "[342 rows x 3 columns]"
      ]
     },
     "execution_count": 23,
     "metadata": {},
     "output_type": "execute_result"
    }
   ],
   "source": [
    "epl_data['Date'] = pd.to_datetime(epl_data['Date'])\n",
    "epl_data = epl_data.sort_values(by='Date')\n",
    "epl_data"
   ]
  },
  {
   "cell_type": "code",
   "execution_count": 24,
   "id": "3382034c-76dd-49a4-9555-4beaf841a7c6",
   "metadata": {},
   "outputs": [],
   "source": [
    "epl_data.to_csv('~/Documents/ds_study/EPL_prediction_ML/data/epl_data_for_predict.csv', index=False)"
   ]
  }
 ],
 "metadata": {
  "kernelspec": {
   "display_name": "Python 3 (ipykernel)",
   "language": "python",
   "name": "python3"
  },
  "language_info": {
   "codemirror_mode": {
    "name": "ipython",
    "version": 3
   },
   "file_extension": ".py",
   "mimetype": "text/x-python",
   "name": "python",
   "nbconvert_exporter": "python",
   "pygments_lexer": "ipython3",
   "version": "3.11.4"
  }
 },
 "nbformat": 4,
 "nbformat_minor": 5
}
